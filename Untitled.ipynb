{
 "cells": [
  {
   "cell_type": "code",
   "execution_count": 2,
   "metadata": {},
   "outputs": [],
   "source": [
    "import numpy as np\n",
    "import pandas as pd\n",
    "import matplotlib.pyplot as plt\n",
    "import re\n",
    "import itertools\n",
    "import pymorphy2\n",
    "import operator"
   ]
  },
  {
   "cell_type": "code",
   "execution_count": 3,
   "metadata": {},
   "outputs": [],
   "source": [
    "df1 = pd.read_csv('keyword_names.csv')"
   ]
  },
  {
   "cell_type": "code",
   "execution_count": 4,
   "metadata": {},
   "outputs": [],
   "source": [
    "df2 = pd.read_csv('keywords_data.csv')"
   ]
  },
  {
   "cell_type": "code",
   "execution_count": 5,
   "metadata": {},
   "outputs": [
    {
     "data": {
      "text/html": [
       "<div>\n",
       "<style scoped>\n",
       "    .dataframe tbody tr th:only-of-type {\n",
       "        vertical-align: middle;\n",
       "    }\n",
       "\n",
       "    .dataframe tbody tr th {\n",
       "        vertical-align: top;\n",
       "    }\n",
       "\n",
       "    .dataframe thead th {\n",
       "        text-align: right;\n",
       "    }\n",
       "</style>\n",
       "<table border=\"1\" class=\"dataframe\">\n",
       "  <thead>\n",
       "    <tr style=\"text-align: right;\">\n",
       "      <th></th>\n",
       "      <th>keyword_name</th>\n",
       "    </tr>\n",
       "  </thead>\n",
       "  <tbody>\n",
       "    <tr>\n",
       "      <th>0</th>\n",
       "      <td>устройство +в яндекс такси</td>\n",
       "    </tr>\n",
       "    <tr>\n",
       "      <th>1</th>\n",
       "      <td>устроиться яндекс такси</td>\n",
       "    </tr>\n",
       "    <tr>\n",
       "      <th>2</th>\n",
       "      <td>сколько зарабатывают таксисты яндекс</td>\n",
       "    </tr>\n",
       "    <tr>\n",
       "      <th>3</th>\n",
       "      <td>яндекс такси устроиться +на работу</td>\n",
       "    </tr>\n",
       "    <tr>\n",
       "      <th>4</th>\n",
       "      <td>водитель +в яндекс такси</td>\n",
       "    </tr>\n",
       "  </tbody>\n",
       "</table>\n",
       "</div>"
      ],
      "text/plain": [
       "                           keyword_name\n",
       "0            устройство +в яндекс такси\n",
       "1               устроиться яндекс такси\n",
       "2  сколько зарабатывают таксисты яндекс\n",
       "3    яндекс такси устроиться +на работу\n",
       "4              водитель +в яндекс такси"
      ]
     },
     "execution_count": 5,
     "metadata": {},
     "output_type": "execute_result"
    }
   ],
   "source": [
    "df1.head()"
   ]
  },
  {
   "cell_type": "code",
   "execution_count": 6,
   "metadata": {},
   "outputs": [
    {
     "data": {
      "text/html": [
       "<div>\n",
       "<style scoped>\n",
       "    .dataframe tbody tr th:only-of-type {\n",
       "        vertical-align: middle;\n",
       "    }\n",
       "\n",
       "    .dataframe tbody tr th {\n",
       "        vertical-align: top;\n",
       "    }\n",
       "\n",
       "    .dataframe thead th {\n",
       "        text-align: right;\n",
       "    }\n",
       "</style>\n",
       "<table border=\"1\" class=\"dataframe\">\n",
       "  <thead>\n",
       "    <tr style=\"text-align: right;\">\n",
       "      <th></th>\n",
       "      <th>search</th>\n",
       "      <th>visits</th>\n",
       "      <th>guests</th>\n",
       "      <th>clicks</th>\n",
       "      <th>active</th>\n",
       "      <th>costs</th>\n",
       "    </tr>\n",
       "  </thead>\n",
       "  <tbody>\n",
       "    <tr>\n",
       "      <th>0</th>\n",
       "      <td>бишкек яндекс такси для водителей</td>\n",
       "      <td>1</td>\n",
       "      <td>1</td>\n",
       "      <td>1</td>\n",
       "      <td>0</td>\n",
       "      <td>14,517</td>\n",
       "    </tr>\n",
       "    <tr>\n",
       "      <th>1</th>\n",
       "      <td>городе бишкек кыргызстан работа яндекс такси с...</td>\n",
       "      <td>1</td>\n",
       "      <td>1</td>\n",
       "      <td>1</td>\n",
       "      <td>0</td>\n",
       "      <td>10,269</td>\n",
       "    </tr>\n",
       "    <tr>\n",
       "      <th>2</th>\n",
       "      <td>как подключить яндекс такси бишкек</td>\n",
       "      <td>1</td>\n",
       "      <td>1</td>\n",
       "      <td>1</td>\n",
       "      <td>1</td>\n",
       "      <td>9,762</td>\n",
       "    </tr>\n",
       "    <tr>\n",
       "      <th>3</th>\n",
       "      <td>как работает яндекс такси</td>\n",
       "      <td>1</td>\n",
       "      <td>1</td>\n",
       "      <td>1</td>\n",
       "      <td>0</td>\n",
       "      <td>7,249</td>\n",
       "    </tr>\n",
       "    <tr>\n",
       "      <th>4</th>\n",
       "      <td>как устроится службу яндекс такси без своей ма...</td>\n",
       "      <td>1</td>\n",
       "      <td>1</td>\n",
       "      <td>1</td>\n",
       "      <td>0</td>\n",
       "      <td>9,911</td>\n",
       "    </tr>\n",
       "  </tbody>\n",
       "</table>\n",
       "</div>"
      ],
      "text/plain": [
       "                                              search  visits  guests  clicks  \\\n",
       "0                  бишкек яндекс такси для водителей       1       1       1   \n",
       "1  городе бишкек кыргызстан работа яндекс такси с...       1       1       1   \n",
       "2                 как подключить яндекс такси бишкек       1       1       1   \n",
       "3                          как работает яндекс такси       1       1       1   \n",
       "4  как устроится службу яндекс такси без своей ма...       1       1       1   \n",
       "\n",
       "   active   costs  \n",
       "0       0  14,517  \n",
       "1       0  10,269  \n",
       "2       1   9,762  \n",
       "3       0   7,249  \n",
       "4       0   9,911  "
      ]
     },
     "execution_count": 6,
     "metadata": {},
     "output_type": "execute_result"
    }
   ],
   "source": [
    "df2.head()"
   ]
  },
  {
   "cell_type": "code",
   "execution_count": 7,
   "metadata": {},
   "outputs": [],
   "source": [
    "# Левенштейн\n",
    "def damerau_levenshtein_distance(s1, s2):\n",
    "    d = {}\n",
    "    lenstr1 = len(s1)\n",
    "    lenstr2 = len(s2)\n",
    "    for i in range(-1, lenstr1 + 1):\n",
    "        d[(i, -1)] = i + 1\n",
    "    for j in range(-1, lenstr2 + 1):\n",
    "        d[(-1, j)] = j + 1\n",
    "    for i in range(lenstr1):\n",
    "        for j in range(lenstr2):\n",
    "            if s1[i] == s2[j]:\n",
    "                cost = 0\n",
    "            else:\n",
    "                cost = 1\n",
    "            d[(i, j)] = min(\n",
    "                d[(i - 1, j)] + 1,  # deletion\n",
    "                d[(i, j - 1)] + 1,  # insertion\n",
    "                d[(i - 1, j - 1)] + cost,  # substitution\n",
    "            )\n",
    "            if i and j and s1[i] == s2[j - 1] and s1[i - 1] == s2[j]:\n",
    "                d[(i, j)] = min(d[(i, j)], d[i - 2, j - 2] + cost)  # transposition\n",
    "    return d[lenstr1 - 1, lenstr2 - 1]\n",
    "\n",
    "# Нормированный Левенштейн\n",
    "def norm_lev(s1, s2):\n",
    "    return damerau_levenshtein_distance(s1, s2)/max(len(s1), len(s2))\n",
    "\n",
    "# Косинусное расстояние\n",
    "from scipy.spatial.distance import cosine\n",
    "\n",
    "def tanimoto(s1, s2):\n",
    "    a, b, c = len(s1.split()), len(s2.split()), 0.0\n",
    "\n",
    "    for sym in s1.split():\n",
    "        if sym in s2.split():\n",
    "            c += 1\n",
    "\n",
    "    return c / (a + b - c)"
   ]
  },
  {
   "cell_type": "code",
   "execution_count": 8,
   "metadata": {},
   "outputs": [],
   "source": [
    "morph = pymorphy2.MorphAnalyzer()\n",
    "def normed_word(x):\n",
    "    p = morph.parse(x)[0]\n",
    "    return p.normal_form"
   ]
  },
  {
   "cell_type": "code",
   "execution_count": 32,
   "metadata": {},
   "outputs": [],
   "source": [
    "class WordsTokenizer:\n",
    "    \n",
    "    \n",
    "    def __init__(self):\n",
    "        self._cos_matrix = None\n",
    "        self.uniq_words = None\n",
    "        \n",
    "    def fit(self, data):\n",
    "        _uniq_words = set()\n",
    "        for sentence in data:\n",
    "            for word in sentence.split():\n",
    "                word = normed_word(re.sub(\"\\W\", \"\", word)).lower()\n",
    "                _uniq_words.add(word)\n",
    "        _uniq_words = list(_uniq_words)\n",
    "        self.uniq_words = _uniq_words\n",
    "        self.uniq_words += ['Unknown']\n",
    "    \n",
    "    def transform(self, data):\n",
    "        if self.uniq_words is None:\n",
    "            raise \"Надо сначала вызвать fit() !!!\"\n",
    "            \n",
    "        _cos_matrix = np.zeros((data.shape[0], len(self.uniq_words)+1))\n",
    "        for i, sentence in enumerate(data):\n",
    "            for word_in_sentence in sentence.split(\" \"):\n",
    "                # Уберем всякие какашки из слов в запросе (вдруг кто-то решил это делать)\n",
    "                word_in_sentence = re.sub(\"\\W\", \"\", word_in_sentence)\n",
    "                word_in_sentence = normed_word(word_in_sentence.lower())\n",
    "                \n",
    "                p = 0.1\n",
    "                is_found = False\n",
    "                for j, word in enumerate(self.uniq_words):\n",
    "                    if norm_lev(word, word_in_sentence) < p:\n",
    "                        _cos_matrix[i][j] += 1\n",
    "                        is_found = True\n",
    "                        break\n",
    "                if not is_found:\n",
    "                    _cos_matrix[i][-1] += 1\n",
    "        return _cos_matrix\n",
    "    \n",
    "    def fit_transform(self, train_words, data):\n",
    "        self.fit(train_words)\n",
    "        return self.transform(data)"
   ]
  },
  {
   "cell_type": "code",
   "execution_count": 33,
   "metadata": {},
   "outputs": [],
   "source": [
    "class SemanticsClassifiler:\n",
    "    \n",
    "    \n",
    "    def __init__(self):\n",
    "        pass\n",
    "    \n",
    "    # TODO: было бы неплохо обучать его на имеющихся ответах\n",
    "    def train(self):\n",
    "        pass\n",
    "    \n",
    "    def predict(self, data):\n",
    "        pass"
   ]
  },
  {
   "cell_type": "code",
   "execution_count": 34,
   "metadata": {},
   "outputs": [],
   "source": [
    "# ТОКЕНИЗАЦИЯ ЗАПРОСОВ ПО УНИКАЛЬНЫМ СЛОВАМ\n",
    "tokenizer = WordsTokenizer()\n",
    "tokenizer.fit(df1['keyword_name'].values)\n",
    "cos_matrix = tokenizer.transform(df2['search'].values)"
   ]
  },
  {
   "cell_type": "code",
   "execution_count": 35,
   "metadata": {
    "scrolled": true
   },
   "outputs": [
    {
     "data": {
      "text/plain": [
       "['устроиться',\n",
       " 'отзыв',\n",
       " 'яндекс',\n",
       " 'для',\n",
       " 'подключение',\n",
       " 'в',\n",
       " 'свой',\n",
       " 'форум',\n",
       " 'зарабатывать',\n",
       " 'сайт',\n",
       " 'бишкек',\n",
       " 'водитель',\n",
       " 'заработать',\n",
       " 'условие',\n",
       " 'стать',\n",
       " 'на',\n",
       " 'компания',\n",
       " 'работа',\n",
       " 'ли',\n",
       " 'личный',\n",
       " 'заработок',\n",
       " 'можно',\n",
       " 'подключать',\n",
       " 'машина',\n",
       " 'подключить',\n",
       " 'вакансия',\n",
       " 'устраиваться',\n",
       " 'к',\n",
       " 'официальный',\n",
       " 'такси',\n",
       " 'сколько',\n",
       " 'устройство',\n",
       " 'работать',\n",
       " 'подключаться',\n",
       " 'авто',\n",
       " 'подключиться',\n",
       " 'таксист',\n",
       " 'Unknown']"
      ]
     },
     "execution_count": 35,
     "metadata": {},
     "output_type": "execute_result"
    }
   ],
   "source": [
    "tokenizer.uniq_words"
   ]
  },
  {
   "cell_type": "markdown",
   "metadata": {},
   "source": [
    "Ура! Косинусная матрица готова. Теперь считаем расстояния"
   ]
  },
  {
   "cell_type": "code",
   "execution_count": 36,
   "metadata": {
    "scrolled": true
   },
   "outputs": [
    {
     "name": "stdout",
     "output_type": "stream",
     "text": [
      "требуются водители в яндекс такси бишкек\n",
      "[ 0.  0.  1.  0.  0.  1.  0.  0.  0.  0.  1.  1.  0.  0.  0.  0.  0.  0.\n",
      "  0.  0.  0.  0.  0.  0.  0.  0.  0.  0.  0.  1.  0.  0.  0.  0.  0.  0.\n",
      "  0.  0.  1.]\n",
      "яндекс, в, бишкек, водитель, такси, "
     ]
    }
   ],
   "source": [
    "# Тест i-го индекса\n",
    "# ТУТ ПОКА БЕЗ ПРОВЕРКИ СИНОНИМОВ И ЧЕРТОВА ЛЕВЕНШТЕЙНА\n",
    "ind = 22\n",
    "print(df2['search'][ind])\n",
    "print(cos_matrix[ind])\n",
    "for i in np.argwhere(cos_matrix[ind] != 0)[:-1, 0]:\n",
    "    print(tokenizer.uniq_words[i], end=\", \")"
   ]
  },
  {
   "cell_type": "code",
   "execution_count": 37,
   "metadata": {},
   "outputs": [],
   "source": [
    "sem_cos_matrix = tokenizer.transform(df1['keyword_name'])"
   ]
  },
  {
   "cell_type": "code",
   "execution_count": 38,
   "metadata": {},
   "outputs": [
    {
     "data": {
      "text/plain": [
       "'как устроиться в яндекс такси'"
      ]
     },
     "execution_count": 38,
     "metadata": {},
     "output_type": "execute_result"
    }
   ],
   "source": [
    "df2['search'].iloc[5]"
   ]
  },
  {
   "cell_type": "code",
   "execution_count": 39,
   "metadata": {
    "scrolled": false
   },
   "outputs": [
    {
     "data": {
      "text/plain": [
       "(171, 39)"
      ]
     },
     "execution_count": 39,
     "metadata": {},
     "output_type": "execute_result"
    }
   ],
   "source": [
    "sem_cos_matrix.shape"
   ]
  },
  {
   "cell_type": "code",
   "execution_count": 139,
   "metadata": {},
   "outputs": [],
   "source": [
    "def check_sem(req, sem):\n",
    "    \n",
    "    req = ' '.join([normed_word(re.sub(\"\\W\", \"\", tmp_word).lower()) for tmp_word in req.split(' ')])\n",
    "    n_sem = ' '.join([normed_word(re.sub(\"\\W\", \"\", tmp_word).lower()) for tmp_word in sem.split(' ')])\n",
    "    \n",
    "    vec_req = tokenizer.transform(np.array([req]))\n",
    "    vec_sem = tokenizer.transform(np.array([n_sem]))\n",
    "\n",
    "    if '-' in sem:\n",
    "        minus_words = []\n",
    "        for part in sem.split('-'):\n",
    "            minus_words.append(part.split(' ')[0])\n",
    "        for bad_word in minus_words:\n",
    "            if bad_word in req.split(' '):\n",
    "                return 1\n",
    "    if '+' in sem:\n",
    "        plus_words = []\n",
    "        for part in sem.split('+'):\n",
    "            plus_words.append(part.split(' ')[0])\n",
    "        for required_word in plus_words:\n",
    "            if required_word not in req.split(' '):\n",
    "                return 1\n",
    "    if '\"' in sem:\n",
    "        if np.count_nonzero(vec_req - vec_sem) == 0:\n",
    "            return 0\n",
    "        else:\n",
    "            return 1\n",
    "    elif '[' in sem:\n",
    "        # TODO: здесь пока будет заглушка (`[]` -- это отстой)\n",
    "        return 1\n",
    "    else:\n",
    "        # Пытаемся примерно предсказать\n",
    "        # самая подгонистая часть\n",
    "        a = 0.7\n",
    "        b = 1-a\n",
    "        s1 = ' '.join(sorted(req.split(' ')))\n",
    "        s2 = ' '.join(sorted(n_sem.split(' ')))\n",
    "        return a*cosine(vec_req, vec_sem) + b*norm_lev(s1, s2)"
   ]
  },
  {
   "cell_type": "code",
   "execution_count": 140,
   "metadata": {},
   "outputs": [
    {
     "data": {
      "text/plain": [
       "0.26190476190476192"
      ]
     },
     "execution_count": 140,
     "metadata": {},
     "output_type": "execute_result"
    }
   ],
   "source": [
    "check_sem('яндекс такси работа', 'яндекс такси работать')"
   ]
  },
  {
   "cell_type": "code",
   "execution_count": 141,
   "metadata": {},
   "outputs": [
    {
     "data": {
      "text/plain": [
       "0.13397459621556129"
      ]
     },
     "execution_count": 141,
     "metadata": {},
     "output_type": "execute_result"
    }
   ],
   "source": [
    "t1 = tokenizer.transform(np.array(['подключить яндекс такси']))\n",
    "t2 = tokenizer.transform(np.array(['подключить такси у яндекса']))\n",
    "cosine(t1, t2)"
   ]
  },
  {
   "cell_type": "code",
   "execution_count": 142,
   "metadata": {
    "scrolled": false
   },
   "outputs": [
    {
     "name": "stdout",
     "output_type": "stream",
     "text": [
      "0.133974596216\n",
      "1\n"
     ]
    }
   ],
   "source": [
    "# ЭТО ТЕСТЫ\n",
    "req = \"бишкек яндекс такси для водителей\"\n",
    "sem = '\"работа в яндекс такси вакансии\"'\n",
    "t = tokenizer.transform(np.array([req, sem]))\n",
    "print(cosine(t1[0], t2[0]))\n",
    "print(check_sem(req, sem))"
   ]
  },
  {
   "cell_type": "code",
   "execution_count": 143,
   "metadata": {},
   "outputs": [
    {
     "data": {
      "text/plain": [
       "1"
      ]
     },
     "execution_count": 143,
     "metadata": {},
     "output_type": "execute_result"
    }
   ],
   "source": [
    "check_sem(\"бишкек яндекс такси для водителей\", '\"работа в яндекс такси вакансии\"')"
   ]
  },
  {
   "cell_type": "code",
   "execution_count": 144,
   "metadata": {
    "scrolled": false
   },
   "outputs": [
    {
     "name": "stdout",
     "output_type": "stream",
     "text": [
      "\"бишкек яндекс такси для водителей\" has nearest яндекс +для водителей --- elem_distances=0.28\n",
      "\"городе бишкек кыргызстан работа яндекс такси сколько зарабатывает яндекс такси водителей\" has nearest яндекс такси работа водителем --- elem_distances=0.393\n",
      "\"как подключить яндекс такси бишкек\" has nearest подключить яндекс такси --- elem_distances=0.255\n",
      "\"как работает яндекс такси\" has nearest яндекс такси работать --- elem_distances=0.142\n",
      "\"как устроится службу яндекс такси без своей машины\" has nearest устроиться яндекс такси --- elem_distances=0.538\n",
      "\"как устроиться в яндекс такси\" has nearest устроиться водителем +в яндекс такси --- elem_distances=0.211\n",
      "\"как устроиться в яндекс такси без машины в бишкеке\" has nearest устроиться водителем +в яндекс такси --- elem_distances=0.401\n",
      "\"как устроиться в яндекс такси в бишкеке\" has nearest устроиться водителем +в яндекс такси --- elem_distances=0.281\n",
      "\"как устроиться в яндекс такси на своем авто в бишкеке\" has nearest устроиться водителем +в яндекс такси --- elem_distances=0.389\n",
      "\"как устроиться в яндекс такси на своем авто кыргызстане\" has nearest яндекс такси устроиться +на работу --- elem_distances=0.458\n",
      "\"как устроиться яндекс такси\" has nearest устроиться яндекс такси --- elem_distances=0.138\n",
      "\"программа яндекс такси для водителей\" has nearest яндекс +для водителей --- elem_distances=0.295\n",
      "\"работа в яндекс такси\" has nearest \"работа в яндекс такси\" --- elem_distances=0\n",
      "\"работа в яндекс такси в бишкеке\" has nearest работа +в яндекс такси Бишкек --- elem_distances=0.056\n",
      "\"работа в яндекс такси на своем авто\" has nearest работа +в яндекс такси +на авто компании --- elem_distances=0.211\n",
      "\"работа на яндекс такси в бишкеке\" has nearest работа +в яндекс такси Бишкек --- elem_distances=0.09\n",
      "\"работа яндекс такси в бишкеке\" has nearest работа +в яндекс такси Бишкек --- elem_distances=0.0\n",
      "\"работа яндекс такси россии\" has nearest яндекс такси работа водителем --- elem_distances=0.304\n",
      "\"регистрация водителей в яндекс такси бишкек\" has nearest водитель +в яндекс такси --- elem_distances=0.264\n",
      "\"скачать яндекс такси на телефон водитель\" has nearest яндекс такси работа водителем --- elem_distances=0.449\n",
      "\"стать таксистом яндекс такси бишкек\" has nearest стать яндекс таксистом --- elem_distances=0.276\n",
      "\"схема работы яндекс такси\" has nearest яндекс такси работа водителем --- elem_distances=0.304\n",
      "\"требуются водители в яндекс такси бишкек\" has nearest водитель +в яндекс такси --- elem_distances=0.264\n",
      "\"требуются водители яндекс такси\" has nearest яндекс такси работа водителем --- elem_distances=0.293\n",
      "\"условия работы в яндекс такси в бишкеке\" has nearest работа +в яндекс такси Бишкек --- elem_distances=0.153\n",
      "\"условия работы в яндекс такси на авто\" has nearest работа +в яндекс такси +на авто компании --- elem_distances=0.234\n",
      "\"устройство на работу в яндекс такси бишкеке\" has nearest работа +в яндекс такси Бишкек --- elem_distances=0.208\n",
      "\"хочешь устраивать водителей в яндекс такси\" has nearest водитель +в яндекс такси --- elem_distances=0.337\n",
      "\"я хочу работать яндекс такси бишкек\" has nearest яндекс такси работать --- elem_distances=0.401\n",
      "\"яндекс водитель такси\" has nearest \"водитель яндекс такси\" --- elem_distances=0\n",
      "\"яндекс такси бишкек вакансии\" has nearest \"яндекс такси Бишкек вакансии\" --- elem_distances=0\n",
      "\"яндекс такси бишкек водитель\" has nearest яндекс такси Бишкек вакансии --- elem_distances=0.25\n",
      "\"яндекс такси бишкек работ\" has nearest \"яндекс такси Бишкек работа\" --- elem_distances=0\n",
      "\"яндекс такси бишкек работа\" has nearest \"яндекс такси Бишкек работа\" --- elem_distances=0\n",
      "\"яндекс такси в бишкеке для водителей\" has nearest водитель +в яндекс такси --- elem_distances=0.226\n",
      "\"яндекс такси в бишкеке набор водителей\" has nearest водитель +в яндекс такси --- elem_distances=0.237\n",
      "\"яндекс такси в бишкеке работа\" has nearest работа +в яндекс такси Бишкек --- elem_distances=0.0\n",
      "\"яндекс такси в бишкеке стать таксистом\" has nearest стать яндекс таксистом --- elem_distances=0.334\n",
      "\"яндекс такси в бишкеке устроиться\" has nearest устроиться водителем +в яндекс такси --- elem_distances=0.228\n",
      "\"яндекс такси в водителям\" has nearest водитель +в яндекс такси --- elem_distances=0.0\n",
      "\"яндекс такси в москве работа\" has nearest работа +в яндекс такси отзывы --- elem_distances=0.194\n",
      "\"яндекс такси информация для водителей\" has nearest яндекс +для водителей --- elem_distances=0.299\n",
      "\"яндекс такси работа\" has nearest \"работа яндекс такси\" --- elem_distances=0\n",
      "\"яндекс такси работа бишкек\" has nearest \"яндекс такси Бишкек работа\" --- elem_distances=0\n",
      "\"яндекс такси работа в бишкеке\" has nearest работа +в яндекс такси Бишкек --- elem_distances=0.0\n",
      "\"яндекс такси регистрация водителей без лицензии\" has nearest яндекс такси работа водителем --- elem_distances=0.534\n"
     ]
    }
   ],
   "source": [
    "# Наверно, я все сделал через жопу, но результаты есть!\n",
    "predictions = dict()\n",
    "# Бегаем по запросам пользователя\n",
    "for i, element in enumerate(df2['search'].values):\n",
    "    elem_distances = {}\n",
    "    # Бегаем по сематич. ядру\n",
    "    for j, sem in enumerate(df1['keyword_name'].values):\n",
    "        elem_distances[sem] = check_sem(element, sem)\n",
    "    nearest_sem = min(elem_distances, key=elem_distances.get)\n",
    "    #predictions[sem] = (nearest_sem)\n",
    "    print('\"{}\" has nearest {} --- elem_distances={}'\n",
    "        .format(element, nearest_sem, round(elem_distances[nearest_sem], 3)))"
   ]
  },
  {
   "cell_type": "code",
   "execution_count": null,
   "metadata": {},
   "outputs": [],
   "source": [
    "# Запишем результаты\n",
    "df2['predictions'] = predictions"
   ]
  },
  {
   "cell_type": "code",
   "execution_count": null,
   "metadata": {},
   "outputs": [],
   "source": [
    "df2"
   ]
  },
  {
   "cell_type": "code",
   "execution_count": null,
   "metadata": {},
   "outputs": [],
   "source": [
    "df2.to_csv('result.csv')"
   ]
  },
  {
   "cell_type": "code",
   "execution_count": null,
   "metadata": {},
   "outputs": [],
   "source": [
    "ans_df = pd.read_csv('answers.csv')"
   ]
  },
  {
   "cell_type": "code",
   "execution_count": null,
   "metadata": {},
   "outputs": [],
   "source": [
    "ans_df = ans_df.iloc[ans_df['Поисковые фразы'].dropna().index]"
   ]
  },
  {
   "cell_type": "code",
   "execution_count": null,
   "metadata": {
    "scrolled": true
   },
   "outputs": [],
   "source": [
    "ans_df"
   ]
  },
  {
   "cell_type": "code",
   "execution_count": null,
   "metadata": {},
   "outputs": [],
   "source": []
  }
 ],
 "metadata": {
  "kernelspec": {
   "display_name": "Python 3",
   "language": "python",
   "name": "python3"
  },
  "language_info": {
   "codemirror_mode": {
    "name": "ipython",
    "version": 3
   },
   "file_extension": ".py",
   "mimetype": "text/x-python",
   "name": "python",
   "nbconvert_exporter": "python",
   "pygments_lexer": "ipython3",
   "version": "3.5.2"
  }
 },
 "nbformat": 4,
 "nbformat_minor": 2
}
